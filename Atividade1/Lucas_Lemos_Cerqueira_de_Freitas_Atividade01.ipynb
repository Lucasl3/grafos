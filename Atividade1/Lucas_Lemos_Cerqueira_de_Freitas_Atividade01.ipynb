{
  "nbformat": 4,
  "nbformat_minor": 0,
  "metadata": {
    "colab": {
      "name": "Lucas Lemos Cerqueira de Freitas - Atividade01.ipynb",
      "provenance": [],
      "collapsed_sections": [],
      "include_colab_link": true
    },
    "kernelspec": {
      "name": "python3",
      "display_name": "Python 3"
    },
    "language_info": {
      "name": "python"
    }
  },
  "cells": [
    {
      "cell_type": "markdown",
      "metadata": {
        "id": "view-in-github",
        "colab_type": "text"
      },
      "source": [
        "<a href=\"https://colab.research.google.com/github/Lucasl3/grafos/blob/main/Atividade1/Lucas_Lemos_Cerqueira_de_Freitas_Atividade01.ipynb\" target=\"_parent\"><img src=\"https://colab.research.google.com/assets/colab-badge.svg\" alt=\"Open In Colab\"/></a>"
      ]
    },
    {
      "cell_type": "markdown",
      "source": [
        "# Atividade 01 - Planejamento de rota"
      ],
      "metadata": {
        "id": "II9bAP7GVaXV"
      }
    },
    {
      "cell_type": "code",
      "source": [
        "import numpy as np"
      ],
      "metadata": {
        "id": "U35KUKvYVdWl"
      },
      "execution_count": null,
      "outputs": []
    },
    {
      "cell_type": "markdown",
      "source": [
        "## Aplicação básica"
      ],
      "metadata": {
        "id": "LBOr8CnBwJoA"
      }
    },
    {
      "cell_type": "markdown",
      "source": [
        "Um robô precisa planejar a menor rota em uma grade de ocupação. Suponha que a grade de ocupação é fornecida como uma matriz com células indicando espaço livre (1) e obstáculo (∞). No caso, para a grade de ocupação a seguir:\n",
        "\n",
        "É definida respectiva matriz:"
      ],
      "metadata": {
        "id": "nBUSDHobT3L2"
      }
    },
    {
      "cell_type": "code",
      "execution_count": null,
      "metadata": {
        "colab": {
          "base_uri": "https://localhost:8080/"
        },
        "id": "iCK5LqPzTzrz",
        "outputId": "72c50592-3a9b-496c-9ca7-e5d81df49ea9"
      },
      "outputs": [
        {
          "output_type": "stream",
          "name": "stdout",
          "text": [
            "[[inf  1.  1.  1.  1. inf inf inf  1.  1.]\n",
            " [inf  1.  1.  1.  1. inf inf inf  1.  1.]\n",
            " [inf  1.  1.  1.  1. inf inf inf  1.  1.]\n",
            " [inf  1.  1.  1.  1.  1.  1.  1.  1.  1.]\n",
            " [inf  1.  1.  1.  1.  1.  1.  1.  1.  1.]\n",
            " [inf inf inf inf inf inf  1.  1. inf  1.]\n",
            " [ 1.  1.  1.  1.  1. inf  1.  1. inf  1.]\n",
            " [ 1.  1.  1. inf  1. inf  1.  1. inf  1.]\n",
            " [ 1.  1.  1. inf  1.  1.  1.  1. inf  1.]\n",
            " [ 1.  1.  1.  1.  1.  1.  1.  1. inf  1.]]\n"
          ]
        }
      ],
      "source": [
        "occupancy = np.ones((10, 10))\n",
        "occupancy[0:5, 0] = np.inf\n",
        "occupancy[5, 0:5] = np.inf\n",
        "occupancy[5:8, 5] = np.inf\n",
        "occupancy[0:3, 5:8] = np.inf\n",
        "occupancy[7:9, 3] = np.inf\n",
        "occupancy[5:10, 8] = np.inf\n",
        "\n",
        "n = len(occupancy)\n",
        "m = len(occupancy[0])\n",
        "\n",
        "print(occupancy)"
      ]
    },
    {
      "cell_type": "markdown",
      "source": [
        "Sabendo que o robô inicia em uma célula específica, e.g. pos = [9, 0], e deseja-se chegar em uma posição destino, e.g. pos_d = [0, 2]. O robô se move apenas na horizontal e vertical (não se move na diagonal). Espera-se de retorno uma lista com o caminho."
      ],
      "metadata": {
        "id": "c8aQcMpoxFej"
      }
    },
    {
      "cell_type": "code",
      "source": [
        "def validMove(i, j, occupancy):\n",
        "  if (i >= 0 and i < n) and (j >= 0 and j < m):\n",
        "    position = occupancy[i, j]\n",
        "    return not np.isinf(position)\n",
        "  return False\n",
        "\n",
        "def checkNeighbors(position, occupancy):\n",
        "  movements = [(0, 1), (0, -1), (1, 0), (-1, 0)]\n",
        "  neighbors = []\n",
        "  \n",
        "  for movement in movements:\n",
        "    possible_i, possible_j = np.sum([position, movement], axis=0)\n",
        "    if validMove(possible_i, possible_j, occupancy):\n",
        "      possible_position = occupancy[possible_i, possible_j]\n",
        "      neighbors.append((possible_i, possible_j))\n",
        "\n",
        "  return neighbors\n",
        "\n",
        "def createGraph(occupancy):\n",
        "  graph = {}\n",
        "  for (i, row) in enumerate(occupancy):\n",
        "    for (j, item) in enumerate(row):\n",
        "      if not np.isinf(item):\n",
        "        current_position = (i, j)\n",
        "        valid_neighbors = checkNeighbors(current_position, occupancy)\n",
        "        graph[current_position] = valid_neighbors\n",
        "\n",
        "  return graph"
      ],
      "metadata": {
        "id": "f26E78lwtz14"
      },
      "execution_count": null,
      "outputs": []
    },
    {
      "cell_type": "code",
      "source": [
        "import queue\n",
        "\n",
        "def unvisitedNeighbors(U, matriz_distance, graph):\n",
        "  return [neighbor for neighbor in graph[U] if matriz_distance[neighbor][\"unvisited\"]]\n",
        "\n",
        "def getEdgeWeight(V, occupancy):\n",
        "  i, j = V\n",
        "  return occupancy[i, j]\n",
        "\n",
        "def getPath(start, end, matriz_distance):\n",
        "  path = []\n",
        "  current_node = end\n",
        "  distance = matriz_distance[current_node][\"distance\"]\n",
        "  while current_node != start:\n",
        "    path.append(current_node)\n",
        "    current_node = matriz_distance[current_node][\"previous\"]\n",
        "  path.append(start)\n",
        "  path.reverse()\n",
        "\n",
        "  return (path, distance)\n",
        "\n",
        "def dijkstraAlgorithm(graph, start, end, occupancy):\n",
        "  matriz_distance = {}\n",
        "  priority_queue = queue.PriorityQueue()\n",
        "\n",
        "  for V in graph:\n",
        "    matriz_distance[V] = {\n",
        "        \"unvisited\": True,\n",
        "        \"distance\": np.inf,\n",
        "        \"previous\": None\n",
        "    }\n",
        "    if V == start:\n",
        "      matriz_distance[V][\"distance\"] = 0\n",
        "      priority_queue.put((0, V))\n",
        "\n",
        "  while not priority_queue.empty():\n",
        "    distance, U = priority_queue.get()\n",
        "    unvisited_neighbors = unvisitedNeighbors(U, matriz_distance, graph)\n",
        "    for neighbor in unvisited_neighbors:\n",
        "      temp_distance = distance + getEdgeWeight(neighbor, occupancy)\n",
        "      if temp_distance < matriz_distance[neighbor][\"distance\"]:\n",
        "        matriz_distance[neighbor][\"distance\"] = temp_distance\n",
        "        matriz_distance[neighbor][\"previous\"] = U\n",
        "        priority_queue.put((temp_distance, neighbor))\n",
        "    \n",
        "    matriz_distance[U][\"unvisited\"] = False\n",
        "\n",
        "  return matriz_distance"
      ],
      "metadata": {
        "id": "Icxgj5_oyeJO"
      },
      "execution_count": null,
      "outputs": []
    },
    {
      "cell_type": "code",
      "source": [
        "def printPath(path, distance, occupancy):\n",
        "  for (i, node) in enumerate(path):\n",
        "    if i != 0:\n",
        "      print(\"_________________________________________________\")\n",
        "      print(f\"From {previous_node} to {node} with cost {getEdgeWeight(node, occupancy)}\")\n",
        "    else:\n",
        "      print(\"Starting at\", node)\n",
        "    previous_node = node\n",
        "  \n",
        "  print(f\"\\nTotal cost: {distance}\")"
      ],
      "metadata": {
        "id": "mz6EXJLpAEwd"
      },
      "execution_count": null,
      "outputs": []
    },
    {
      "cell_type": "code",
      "source": [
        "def robot_path(robot_pos, robot_pos_d, occupancy):\n",
        "  robot_pos, robot_pos_d = tuple(robot_pos), tuple(robot_pos_d)\n",
        "  graph = createGraph(occupancy)\n",
        "  matriz_distance = dijkstraAlgorithm(graph, robot_pos, robot_pos_d, occupancy)\n",
        "  path, distance = getPath(robot_pos, robot_pos_d, matriz_distance)\n",
        "  return path, distance"
      ],
      "metadata": {
        "id": "Kxy7WXyCtWhO"
      },
      "execution_count": null,
      "outputs": []
    },
    {
      "cell_type": "code",
      "source": [
        "robot_pos_c = [9, 0] # Robot current position\n",
        "robot_pos_d = [0, 2] # Robot desired position\n",
        "\n",
        "path, distance = robot_path(robot_pos_c, robot_pos_d, occupancy)\n",
        "printPath(path, distance, occupancy)"
      ],
      "metadata": {
        "colab": {
          "base_uri": "https://localhost:8080/"
        },
        "id": "45dJThZYtZL2",
        "outputId": "f2eff3fe-c308-407b-9c03-08eecbc53868"
      },
      "execution_count": null,
      "outputs": [
        {
          "output_type": "stream",
          "name": "stdout",
          "text": [
            "Starting at (9, 0)\n",
            "_________________________________________________\n",
            "From (9, 0) to (9, 1) with cost 1.0\n",
            "_________________________________________________\n",
            "From (9, 1) to (9, 2) with cost 1.0\n",
            "_________________________________________________\n",
            "From (9, 2) to (9, 3) with cost 1.0\n",
            "_________________________________________________\n",
            "From (9, 3) to (9, 4) with cost 1.0\n",
            "_________________________________________________\n",
            "From (9, 4) to (8, 4) with cost 1.0\n",
            "_________________________________________________\n",
            "From (8, 4) to (8, 5) with cost 1.0\n",
            "_________________________________________________\n",
            "From (8, 5) to (8, 6) with cost 1.0\n",
            "_________________________________________________\n",
            "From (8, 6) to (7, 6) with cost 1.0\n",
            "_________________________________________________\n",
            "From (7, 6) to (6, 6) with cost 1.0\n",
            "_________________________________________________\n",
            "From (6, 6) to (5, 6) with cost 1.0\n",
            "_________________________________________________\n",
            "From (5, 6) to (4, 6) with cost 1.0\n",
            "_________________________________________________\n",
            "From (4, 6) to (3, 6) with cost 1.0\n",
            "_________________________________________________\n",
            "From (3, 6) to (3, 5) with cost 1.0\n",
            "_________________________________________________\n",
            "From (3, 5) to (3, 4) with cost 1.0\n",
            "_________________________________________________\n",
            "From (3, 4) to (2, 4) with cost 1.0\n",
            "_________________________________________________\n",
            "From (2, 4) to (1, 4) with cost 1.0\n",
            "_________________________________________________\n",
            "From (1, 4) to (0, 4) with cost 1.0\n",
            "_________________________________________________\n",
            "From (0, 4) to (0, 3) with cost 1.0\n",
            "_________________________________________________\n",
            "From (0, 3) to (0, 2) with cost 1.0\n",
            "\n",
            "Total cost: 19.0\n"
          ]
        }
      ]
    },
    {
      "cell_type": "markdown",
      "source": [
        "## Considerando terreno"
      ],
      "metadata": {
        "id": "UBMXUk90wGwT"
      }
    },
    {
      "cell_type": "markdown",
      "source": [
        "Agora vamos considerar que algumas células representam regiões com terreno de mais difícil acesso que outras (terreno íngreme, com maior atrito). Dessa vez as células da grade de ocupação terão um peso atribuído de maneira não uniforme. "
      ],
      "metadata": {
        "id": "TOYyBOoZwQIN"
      }
    },
    {
      "cell_type": "code",
      "source": [
        "occupancy = 10 * np.random.rand(10, 10)\n",
        "occupancy[0:5, 0] = np.inf\n",
        "occupancy[5, 0:5] = np.inf\n",
        "occupancy[5:8, 5] = np.inf\n",
        "occupancy[0:3, 5:8] = np.inf\n",
        "occupancy[7:9, 3] = np.inf\n",
        "occupancy[5:10, 8] = np.inf\n",
        "n = len(occupancy)\n",
        "m = len(occupancy[0])\n",
        "\n",
        "for row in occupancy:\n",
        "  print(\"[\", end=\" \")\n",
        "  for item in row:\n",
        "    if np.isinf(item):\n",
        "      print(item, \".            \", end=\" \")\n",
        "    else:\n",
        "      print(item, end=\" \")\n",
        "  print(\"]\")"
      ],
      "metadata": {
        "colab": {
          "base_uri": "https://localhost:8080/"
        },
        "id": "M5bOg2YEwnqS",
        "outputId": "a0bac2b9-c8e2-4371-856c-a23a47f905d0"
      },
      "execution_count": null,
      "outputs": [
        {
          "output_type": "stream",
          "name": "stdout",
          "text": [
            "[ inf .             8.313750693788787 8.742263565356287 4.780942744068623 4.8667877928435495 inf .             inf .             inf .             8.751350418013125 6.235623537529263 ]\n",
            "[ inf .             8.9987182832472 8.947903521697016 5.832672196572214 9.320621647370995 inf .             inf .             inf .             2.344434449694063 8.102176708796767 ]\n",
            "[ inf .             3.0964190111768373 8.558410699698815 7.827183051862975 0.0707851490627387 inf .             inf .             inf .             3.016370571063589 2.2380223217102158 ]\n",
            "[ inf .             9.371183930679907 8.51445823605031 2.888775089148359 8.075096651533602 0.43207099460453313 0.1820845420984596 9.308617489768071 6.290875317984337 0.8116594060623694 ]\n",
            "[ inf .             6.844854632043951 1.576329843499521 2.5179268853776495 3.6235899577284236 4.597047174505199 3.2358579079526995 8.274915933969524 6.258723248342415 0.14996093364032403 ]\n",
            "[ inf .             inf .             inf .             inf .             inf .             inf .             1.755338993929354 7.08033282353579 inf .             1.2333123437668903 ]\n",
            "[ 0.7794716688215975 5.970498505993506 3.2093892371677626 2.50829264315384 6.982917794739786 inf .             1.3332832799734973 1.8588909513844887 inf .             4.563642480194546 ]\n",
            "[ 1.0267438512679805 8.278242917778025 8.799740974971607 inf .             8.95319870625843 inf .             9.86430137004737 7.860086291586342 inf .             1.5588238551863998 ]\n",
            "[ 4.988240225552359 9.486420417845228 4.911814842870806 inf .             0.6451287263671146 8.129357586533791 5.2994856783482245 6.052722168684236 inf .             0.44485534098359425 ]\n",
            "[ 5.870360174252949 8.095332923100745 5.5613803056021816 1.8698848001264878 6.4121471880434155 8.65404288062419 6.468770825374621 8.050598500363318 inf .             9.577809882742494 ]\n"
          ]
        }
      ]
    },
    {
      "cell_type": "markdown",
      "source": [
        "Espera-se que o mesmo código de cima funcione com esse cenário."
      ],
      "metadata": {
        "id": "J7ypB64GzHks"
      }
    },
    {
      "cell_type": "code",
      "source": [
        "robot_pos_c = [9, 0] # Robot current position\n",
        "robot_pos_d = [0, 2] # Robot desired position\n",
        "\n",
        "path, distance = robot_path(robot_pos_c, robot_pos_d, occupancy)\n",
        "printPath(path, distance, occupancy)"
      ],
      "metadata": {
        "id": "bkxoT7TuzPhs",
        "colab": {
          "base_uri": "https://localhost:8080/"
        },
        "outputId": "f50f400d-56a9-42b4-d126-5c8a35640042"
      },
      "execution_count": null,
      "outputs": [
        {
          "output_type": "stream",
          "name": "stdout",
          "text": [
            "Starting at (9, 0)\n",
            "_________________________________________________\n",
            "From (9, 0) to (9, 1) with cost 6.222268114601915\n",
            "_________________________________________________\n",
            "From (9, 1) to (9, 2) with cost 7.005242716378718\n",
            "_________________________________________________\n",
            "From (9, 2) to (9, 3) with cost 8.272623493268087\n",
            "_________________________________________________\n",
            "From (9, 3) to (9, 4) with cost 5.981614727500043\n",
            "_________________________________________________\n",
            "From (9, 4) to (8, 4) with cost 2.119887369440648\n",
            "_________________________________________________\n",
            "From (8, 4) to (8, 5) with cost 9.826691272212292\n",
            "_________________________________________________\n",
            "From (8, 5) to (8, 6) with cost 5.887357515683879\n",
            "_________________________________________________\n",
            "From (8, 6) to (7, 6) with cost 8.083588538425323\n",
            "_________________________________________________\n",
            "From (7, 6) to (6, 6) with cost 8.76324325701264\n",
            "_________________________________________________\n",
            "From (6, 6) to (5, 6) with cost 1.9879028381939812\n",
            "_________________________________________________\n",
            "From (5, 6) to (4, 6) with cost 5.345535598483217\n",
            "_________________________________________________\n",
            "From (4, 6) to (3, 6) with cost 1.2010223421570743\n",
            "_________________________________________________\n",
            "From (3, 6) to (3, 5) with cost 7.252795408216805\n",
            "_________________________________________________\n",
            "From (3, 5) to (3, 4) with cost 7.238957670409322\n",
            "_________________________________________________\n",
            "From (3, 4) to (2, 4) with cost 0.5930946078980559\n",
            "_________________________________________________\n",
            "From (2, 4) to (2, 3) with cost 3.7779753497697923\n",
            "_________________________________________________\n",
            "From (2, 3) to (2, 2) with cost 4.956201467228791\n",
            "_________________________________________________\n",
            "From (2, 2) to (1, 2) with cost 6.341320364703575\n",
            "_________________________________________________\n",
            "From (1, 2) to (0, 2) with cost 4.990371700569636\n",
            "\n",
            "Total cost: 105.8476943521538\n"
          ]
        }
      ]
    }
  ]
}